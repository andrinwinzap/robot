{
  "cells": [
    {
      "cell_type": "code",
      "execution_count": null,
      "id": "42f5637a",
      "metadata": {},
      "outputs": [],
      "source": [
        "from robot_motion import *\n",
        "\n",
        "thetas = [-3.14, 2, 1, -1, 1, 0]\n",
        "T_06 = forward_kinematics(thetas)\n",
        "solutions = inverse_kinematics(T_06)\n",
        "print(solutions)\n",
        "verify_solutions(T_06, solutions)\n",
        "for solution in solutions:\n",
        "    print(solution)"
      ]
    }
  ],
  "metadata": {
    "kernelspec": {
      "display_name": ".venv",
      "language": "python",
      "name": "python3"
    },
    "language_info": {
      "codemirror_mode": {
        "name": "ipython",
        "version": 3
      },
      "file_extension": ".py",
      "mimetype": "text/x-python",
      "name": "python",
      "nbconvert_exporter": "python",
      "pygments_lexer": "ipython3",
      "version": "3.13.5"
    }
  },
  "nbformat": 4,
  "nbformat_minor": 5
}
